{
 "cells": [
  {
   "cell_type": "markdown",
   "id": "fb1ac55f",
   "metadata": {},
   "source": [
    "# 🍷 Wine Quality Prediction Notebook"
   ]
  },
  {
   "cell_type": "code",
   "execution_count": null,
   "id": "8e15505c",
   "metadata": {},
   "outputs": [],
   "source": [
    "import pandas as pd\n",
    "import numpy as np\n",
    "from sklearn.model_selection import train_test_split\n",
    "from sklearn.impute import SimpleImputer\n",
    "from sklearn.preprocessing import StandardScaler\n",
    "from sklearn.linear_model import LogisticRegression\n",
    "from sklearn.ensemble import RandomForestClassifier\n",
    "from sklearn.metrics import classification_report, confusion_matrix, accuracy_score\n",
    "import joblib"
   ]
  },
  {
   "cell_type": "code",
   "execution_count": null,
   "id": "4fecc805",
   "metadata": {},
   "outputs": [],
   "source": [
    "# Load dataset\n",
    "data = pd.read_csv(\"winequality-red-selected-missing.csv\")\n",
    "print(\"Original Data Shape:\", data.shape)\n",
    "data.head()"
   ]
  },
  {
   "cell_type": "code",
   "execution_count": null,
   "id": "52723b8f",
   "metadata": {},
   "outputs": [],
   "source": [
    "# Handle missing values using median imputation\n",
    "imputer = SimpleImputer(strategy='median')\n",
    "X = data.drop('quality', axis=1)\n",
    "X_imputed = pd.DataFrame(imputer.fit_transform(X), columns=X.columns)\n",
    "\n",
    "# Create binary target (Good = 1 if quality >=7, else 0)\n",
    "data['target'] = (data['quality'] >= 7).astype(int)\n",
    "y = data['target']"
   ]
  },
  {
   "cell_type": "code",
   "execution_count": null,
   "id": "a1a77b84",
   "metadata": {},
   "outputs": [],
   "source": [
    "# Split into train and test sets\n",
    "X_train, X_test, y_train, y_test = train_test_split(X_imputed, y, test_size=0.2, random_state=42, stratify=y)"
   ]
  },
  {
   "cell_type": "code",
   "execution_count": null,
   "id": "8a7b0518",
   "metadata": {},
   "outputs": [],
   "source": [
    "# Scale features\n",
    "scaler = StandardScaler()\n",
    "X_train_scaled = scaler.fit_transform(X_train)\n",
    "X_test_scaled = scaler.transform(X_test)"
   ]
  },
  {
   "cell_type": "code",
   "execution_count": null,
   "id": "66e3de1c",
   "metadata": {},
   "outputs": [],
   "source": [
    "# Train Logistic Regression\n",
    "log_reg = LogisticRegression(max_iter=500)\n",
    "log_reg.fit(X_train_scaled, y_train)\n",
    "\n",
    "# Train Random Forest\n",
    "rf = RandomForestClassifier(n_estimators=200, random_state=42)\n",
    "rf.fit(X_train, y_train)"
   ]
  },
  {
   "cell_type": "code",
   "execution_count": null,
   "id": "70b64ad9",
   "metadata": {},
   "outputs": [],
   "source": [
    "# Evaluate models\n",
    "print(\"\\nLogistic Regression Evaluation:\")\n",
    "print(classification_report(y_test, log_reg.predict(X_test_scaled)))\n",
    "\n",
    "print(\"\\nRandom Forest Evaluation:\")\n",
    "print(classification_report(y_test, rf.predict(X_test)))"
   ]
  },
  {
   "cell_type": "code",
   "execution_count": null,
   "id": "bf25c6c0",
   "metadata": {},
   "outputs": [],
   "source": [
    "# Choose Random Forest as final model (likely better)\n",
    "final_model = rf\n",
    "\n",
    "# Save model and scaler for deployment\n",
    "joblib.dump(final_model, \"wine_model.pkl\")\n",
    "joblib.dump(scaler, \"scaler.pkl\")\n",
    "\n",
    "print(\"\\n✅ Model training complete. Model and scaler saved.\")"
   ]
  }
 ],
 "metadata": {},
 "nbformat": 4,
 "nbformat_minor": 5
}
